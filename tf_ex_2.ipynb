{
 "cells": [
  {
   "cell_type": "code",
   "execution_count": null,
   "metadata": {},
   "outputs": [],
   "source": [
    "# 선형 회귀"
   ]
  },
  {
   "cell_type": "code",
   "execution_count": 19,
   "metadata": {},
   "outputs": [],
   "source": [
    "import numpy as np\n",
    "import tensorflow as tf\n",
    "import matplotlib.pyplot as plt\n",
    "plt.style.use('seaborn-white')"
   ]
  },
  {
   "cell_type": "code",
   "execution_count": 3,
   "metadata": {},
   "outputs": [],
   "source": [
    "# Hyper parameter (사용자가 직접 설정)\n",
    "learning_rate = 0.01\n",
    "training_steps = 1000"
   ]
  },
  {
   "cell_type": "code",
   "execution_count": 4,
   "metadata": {},
   "outputs": [],
   "source": [
    "X = np.random.randn(50)\n",
    "Y = 2*X + np.random.randn(50)"
   ]
  },
  {
   "cell_type": "code",
   "execution_count": 5,
   "metadata": {},
   "outputs": [],
   "source": [
    "W = tf.Variable(np.random.randn(),name='weight')\n",
    "b = tf.Variable(np.random.randn(),name='bias')\n",
    "\n",
    "def linear_regression(x):\n",
    "    return W*x +b\n",
    "\n",
    "# loss function\n",
    "def mean_square(y_pred,y_ture): \n",
    "    return tf.reduce_mean(tf.square(y_pred - y_ture))\n",
    "\n",
    "# Optimizer (최적화) ex) Adam\n",
    "# 실제 모댈과 예측 모델의 차이 줄이기\n",
    "optimizer = tf.optimizers.SGD(learning_rate)"
   ]
  },
  {
   "cell_type": "code",
   "execution_count": 8,
   "metadata": {},
   "outputs": [],
   "source": [
    "def run_optimization():\n",
    "    with tf.GradientTape() as tape:\n",
    "        pred = linear_regression(X)\n",
    "        loss = mean_square(pred, Y)\n",
    "    \n",
    "    gradients = tape.gradient(loss, [W,b])\n",
    "\n",
    "    optimizer.apply_gradients(zip(gradients,[W,b]))"
   ]
  },
  {
   "cell_type": "code",
   "execution_count": 9,
   "metadata": {},
   "outputs": [
    {
     "name": "stdout",
     "output_type": "stream",
     "text": [
      "step:   50\tloss: 1.7525\tW: 1.1544\tb: -0.5601\n",
      "step:  100\tloss: 1.0400\tW: 1.6650\tb: -0.2881\n",
      "step:  150\tloss: 0.9245\tW: 1.8514\tb: -0.1469\n",
      "step:  200\tloss: 0.9043\tW: 1.9226\tb: -0.0796\n",
      "step:  250\tloss: 0.9007\tW: 1.9509\tb: -0.0490\n",
      "step:  300\tloss: 0.9000\tW: 1.9625\tb: -0.0353\n",
      "step:  350\tloss: 0.8999\tW: 1.9673\tb: -0.0293\n",
      "step:  400\tloss: 0.8998\tW: 1.9693\tb: -0.0267\n",
      "step:  450\tloss: 0.8998\tW: 1.9701\tb: -0.0256\n",
      "step:  500\tloss: 0.8998\tW: 1.9705\tb: -0.0251\n",
      "step:  550\tloss: 0.8998\tW: 1.9706\tb: -0.0249\n",
      "step:  600\tloss: 0.8998\tW: 1.9707\tb: -0.0248\n",
      "step:  650\tloss: 0.8998\tW: 1.9707\tb: -0.0248\n",
      "step:  700\tloss: 0.8998\tW: 1.9708\tb: -0.0247\n",
      "step:  750\tloss: 0.8998\tW: 1.9708\tb: -0.0247\n",
      "step:  800\tloss: 0.8998\tW: 1.9708\tb: -0.0247\n",
      "step:  850\tloss: 0.8998\tW: 1.9708\tb: -0.0247\n",
      "step:  900\tloss: 0.8998\tW: 1.9708\tb: -0.0247\n",
      "step:  950\tloss: 0.8998\tW: 1.9708\tb: -0.0247\n",
      "step: 1000\tloss: 0.8998\tW: 1.9708\tb: -0.0247\n"
     ]
    }
   ],
   "source": [
    "for step in range(1, training_steps+1):\n",
    "    run_optimization()\n",
    "\n",
    "    if step%50 == 0:\n",
    "        pred = linear_regression(X)\n",
    "        loss = mean_square(pred,Y)\n",
    "        print('step: {:4d}\\tloss: {:.4f}\\tW: {:.4f}\\tb: {:.4f}'.format(step, loss, W.numpy(),b.numpy()))"
   ]
  },
  {
   "cell_type": "code",
   "execution_count": 10,
   "metadata": {},
   "outputs": [
    {
     "data": {
      "image/png": "[encoded data removed]",
      "text/plain": [
       "<Figure size 432x288 with 1 Axes>"
      ]
     },
     "metadata": {},
     "output_type": "display_data"
    }
   ],
   "source": [
    "plt.plot(X,Y,'ro',label = 'Data')\n",
    "plt.plot(X,np.array(W*X+b),label = 'Fitted Line')\n",
    "plt.legend()\n",
    "plt.grid()\n",
    "plt.show()"
   ]
  },
  {
   "cell_type": "code",
   "execution_count": null,
   "metadata": {},
   "outputs": [],
   "source": [
    "# 디힝 회귀 (Nonlinear Regression)"
   ]
  },
  {
   "cell_type": "code",
   "execution_count": 21,
   "metadata": {},
   "outputs": [],
   "source": [
    "from tensorflow.keras.optimizers import Adam"
   ]
  },
  {
   "cell_type": "code",
   "execution_count": 22,
   "metadata": {},
   "outputs": [],
   "source": [
    "# Hyper Parameters\n",
    "epochs = 1000\n",
    "learning_rate = 0.04"
   ]
  },
  {
   "cell_type": "code",
   "execution_count": 23,
   "metadata": {},
   "outputs": [],
   "source": [
    "a = tf.Variable(np.random.rand())\n",
    "b = tf.Variable(np.random.rand())\n",
    "c = tf.Variable(np.random.rand())"
   ]
  },
  {
   "cell_type": "code",
   "execution_count": 24,
   "metadata": {},
   "outputs": [
    {
     "name": "stdout",
     "output_type": "stream",
     "text": [
      "0.78507847\n",
      "0.586892\n",
      "0.84881616\n"
     ]
    }
   ],
   "source": [
    "print(a.numpy())\n",
    "print(b.numpy())\n",
    "print(c.numpy())"
   ]
  },
  {
   "cell_type": "code",
   "execution_count": 25,
   "metadata": {},
   "outputs": [],
   "source": [
    "X = np.random.randn(50)\n",
    "Y = X**2 + X*np.random.randn(50)"
   ]
  },
  {
   "cell_type": "code",
   "execution_count": null,
   "metadata": {},
   "outputs": [],
   "source": []
  }
 ],
 "metadata": {
  "interpreter": {
   "hash": "2273c2f75dcd2ac801645bcfd34548e5df0e52d8fdfdedc74a1b5f4c973130da"
  },
  "kernelspec": {
   "display_name": "Python 3.8.12 ('py38')",
   "language": "python",
   "name": "python3"
  },
  "language_info": {
   "codemirror_mode": {
    "name": "ipython",
    "version": 3
   },
   "file_extension": ".py",
   "mimetype": "text/x-python",
   "name": "python",
   "nbconvert_exporter": "python",
   "pygments_lexer": "ipython3",
   "version": "3.8.12"
  },
  "orig_nbformat": 4
 },
 "nbformat": 4,
 "nbformat_minor": 2
}
