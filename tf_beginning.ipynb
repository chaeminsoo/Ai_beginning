{
 "cells": [
  {
   "cell_type": "code",
   "execution_count": 1,
   "metadata": {},
   "outputs": [],
   "source": [
    "import numpy as np\n",
    "import tensorflow as tf"
   ]
  },
  {
   "cell_type": "code",
   "execution_count": 2,
   "metadata": {},
   "outputs": [
    {
     "name": "stdout",
     "output_type": "stream",
     "text": [
      "2.8.0\n"
     ]
    }
   ],
   "source": [
    "print(tf.__version__)"
   ]
  },
  {
   "cell_type": "code",
   "execution_count": 3,
   "metadata": {},
   "outputs": [],
   "source": [
    "# Tensor의 객체\n",
    "\n",
    "# type: string, float etc\n",
    "# shpape: demention of data\n",
    "# Rank: number of demention"
   ]
  },
  {
   "cell_type": "code",
   "execution_count": 4,
   "metadata": {},
   "outputs": [
    {
     "name": "stdout",
     "output_type": "stream",
     "text": [
      "tf.Tensor(0, shape=(), dtype=int32)\n",
      "tf.Tensor(2, shape=(), dtype=int32)\n"
     ]
    }
   ],
   "source": [
    "a = tf.constant(2)\n",
    "print(tf.rank(a))\n",
    "print(a)"
   ]
  },
  {
   "cell_type": "code",
   "execution_count": 5,
   "metadata": {},
   "outputs": [
    {
     "name": "stdout",
     "output_type": "stream",
     "text": [
      "tf.Tensor(1, shape=(), dtype=int32)\n",
      "tf.Tensor([2 3], shape=(2,), dtype=int32)\n"
     ]
    }
   ],
   "source": [
    "b = tf.constant([2,3])\n",
    "print(tf.rank(b))\n",
    "print(b)"
   ]
  },
  {
   "cell_type": "code",
   "execution_count": 6,
   "metadata": {},
   "outputs": [
    {
     "name": "stdout",
     "output_type": "stream",
     "text": [
      "tf.Tensor(2, shape=(), dtype=int32)\n",
      "tf.Tensor(\n",
      "[[2 3]\n",
      " [6 7]], shape=(2, 2), dtype=int32)\n"
     ]
    }
   ],
   "source": [
    "c = tf.constant([[2,3],[6,7]])\n",
    "print(tf.rank(c))\n",
    "print(c)"
   ]
  },
  {
   "cell_type": "code",
   "execution_count": 7,
   "metadata": {},
   "outputs": [
    {
     "name": "stdout",
     "output_type": "stream",
     "text": [
      "tf.Tensor(1, shape=(), dtype=int32)\n",
      "tf.Tensor([b'hello'], shape=(1,), dtype=string)\n"
     ]
    }
   ],
   "source": [
    "d = tf.constant(['hello'])\n",
    "print(tf.rank(d))\n",
    "print(d)"
   ]
  },
  {
   "cell_type": "code",
   "execution_count": 8,
   "metadata": {},
   "outputs": [
    {
     "name": "stdout",
     "output_type": "stream",
     "text": [
      "(1,)\n",
      "tf.Tensor([0.08760965], shape=(1,), dtype=float32)\n"
     ]
    }
   ],
   "source": [
    "rand  = tf.random.uniform([1], 0,1)\n",
    "print(rand.shape)\n",
    "print(rand)"
   ]
  },
  {
   "cell_type": "code",
   "execution_count": 9,
   "metadata": {},
   "outputs": [
    {
     "name": "stdout",
     "output_type": "stream",
     "text": [
      "(1, 2)\n",
      "tf.Tensor([[ 2.1425886  -0.29909784]], shape=(1, 2), dtype=float32)\n"
     ]
    }
   ],
   "source": [
    "rand2 = tf.random.normal([1,2],0,1)\n",
    "print(rand2.shape)\n",
    "print(rand2)"
   ]
  },
  {
   "cell_type": "code",
   "execution_count": 10,
   "metadata": {},
   "outputs": [
    {
     "name": "stdout",
     "output_type": "stream",
     "text": [
      "(3, 2)\n",
      "tf.Tensor(\n",
      "[[ 0.31515774 -0.12829539]\n",
      " [ 1.2297431   0.5015711 ]\n",
      " [-0.32356635  0.28860497]], shape=(3, 2), dtype=float32)\n"
     ]
    }
   ],
   "source": [
    "rand3 = tf.random.normal(shape=(3,2), mean = 0, stddev= 1)\n",
    "print(rand3.shape)\n",
    "print(rand3)"
   ]
  },
  {
   "cell_type": "code",
   "execution_count": 11,
   "metadata": {},
   "outputs": [],
   "source": [
    "# Eager Mode\n",
    "a = tf.constant(3)\n",
    "b = tf.constant(2)"
   ]
  },
  {
   "cell_type": "code",
   "execution_count": 12,
   "metadata": {},
   "outputs": [
    {
     "name": "stdout",
     "output_type": "stream",
     "text": [
      "tf.Tensor(5, shape=(), dtype=int32)\n",
      "tf.Tensor(5, shape=(), dtype=int32)\n"
     ]
    }
   ],
   "source": [
    "print(tf.add(a,b))\n",
    "print(a+b)"
   ]
  },
  {
   "cell_type": "code",
   "execution_count": 13,
   "metadata": {},
   "outputs": [
    {
     "name": "stdout",
     "output_type": "stream",
     "text": [
      "tf.Tensor(1, shape=(), dtype=int32)\n",
      "tf.Tensor(1, shape=(), dtype=int32)\n"
     ]
    }
   ],
   "source": [
    "print(tf.subtract(a,b))\n",
    "print(a-b)"
   ]
  },
  {
   "cell_type": "code",
   "execution_count": 14,
   "metadata": {},
   "outputs": [
    {
     "name": "stdout",
     "output_type": "stream",
     "text": [
      "tf.Tensor(6, shape=(), dtype=int32)\n",
      "tf.Tensor(6, shape=(), dtype=int32)\n"
     ]
    }
   ],
   "source": [
    "print(tf.multiply(a,b))\n",
    "print(a*b)"
   ]
  },
  {
   "cell_type": "code",
   "execution_count": 15,
   "metadata": {},
   "outputs": [
    {
     "name": "stdout",
     "output_type": "stream",
     "text": [
      "<class 'numpy.int32'>\n"
     ]
    }
   ],
   "source": [
    "c = tf.add(a,b).numpy()\n",
    "print(type(c))"
   ]
  },
  {
   "cell_type": "code",
   "execution_count": 16,
   "metadata": {},
   "outputs": [
    {
     "name": "stdout",
     "output_type": "stream",
     "text": [
      "tf.Tensor(25.0, shape=(), dtype=float32)\n",
      "<class 'tensorflow.python.framework.ops.EagerTensor'>\n"
     ]
    }
   ],
   "source": [
    "c_sqaure = np.square(c,dtype = np.float32)\n",
    "c_tensor = tf.convert_to_tensor(c_sqaure)\n",
    "\n",
    "print(c_tensor)\n",
    "print(type(c_tensor))"
   ]
  },
  {
   "cell_type": "code",
   "execution_count": 17,
   "metadata": {},
   "outputs": [
    {
     "name": "stdout",
     "output_type": "stream",
     "text": [
      "(2, 3)\n",
      "<dtype: 'float32'>\n"
     ]
    }
   ],
   "source": [
    "t = tf.constant([[1.,2.,3.],[4.,5.,6.,]])\n",
    "\n",
    "print(t.shape)\n",
    "print(t.dtype)"
   ]
  },
  {
   "cell_type": "code",
   "execution_count": 18,
   "metadata": {},
   "outputs": [
    {
     "name": "stdout",
     "output_type": "stream",
     "text": [
      "tf.Tensor(\n",
      "[[2. 3.]\n",
      " [5. 6.]], shape=(2, 2), dtype=float32)\n"
     ]
    }
   ],
   "source": [
    "print(t[:,1:])"
   ]
  },
  {
   "cell_type": "code",
   "execution_count": 19,
   "metadata": {},
   "outputs": [
    {
     "data": {
      "text/plain": [
       "<tf.Tensor: shape=(2, 1), dtype=float32, numpy=\n",
       "array([[2.],\n",
       "       [5.]], dtype=float32)>"
      ]
     },
     "execution_count": 19,
     "metadata": {},
     "output_type": "execute_result"
    }
   ],
   "source": [
    "t[..., 1, tf.newaxis]"
   ]
  },
  {
   "cell_type": "code",
   "execution_count": 20,
   "metadata": {},
   "outputs": [
    {
     "data": {
      "text/plain": [
       "<tf.Tensor: shape=(2, 3), dtype=float32, numpy=\n",
       "array([[11., 12., 13.],\n",
       "       [14., 15., 16.]], dtype=float32)>"
      ]
     },
     "execution_count": 20,
     "metadata": {},
     "output_type": "execute_result"
    }
   ],
   "source": [
    "t + 10"
   ]
  },
  {
   "cell_type": "code",
   "execution_count": 21,
   "metadata": {},
   "outputs": [
    {
     "data": {
      "text/plain": [
       "<tf.Tensor: shape=(2, 3), dtype=float32, numpy=\n",
       "array([[ 1.,  4.,  9.],\n",
       "       [16., 25., 36.]], dtype=float32)>"
      ]
     },
     "execution_count": 21,
     "metadata": {},
     "output_type": "execute_result"
    }
   ],
   "source": [
    "tf.square(t)"
   ]
  },
  {
   "cell_type": "code",
   "execution_count": 22,
   "metadata": {},
   "outputs": [
    {
     "data": {
      "text/plain": [
       "<tf.Tensor: shape=(2, 2), dtype=float32, numpy=\n",
       "array([[14., 32.],\n",
       "       [32., 77.]], dtype=float32)>"
      ]
     },
     "execution_count": 22,
     "metadata": {},
     "output_type": "execute_result"
    }
   ],
   "source": [
    "t @ tf.transpose(t)"
   ]
  },
  {
   "cell_type": "code",
   "execution_count": 23,
   "metadata": {},
   "outputs": [],
   "source": [
    "# type 변환 `type이 다르면 계산 안됨`"
   ]
  },
  {
   "cell_type": "code",
   "execution_count": 24,
   "metadata": {},
   "outputs": [
    {
     "name": "stdout",
     "output_type": "stream",
     "text": [
      "tf.Tensor(2, shape=(), dtype=int32)\n",
      "tf.Tensor(2.0, shape=(), dtype=float32)\n"
     ]
    }
   ],
   "source": [
    "a = tf.constant(2)\n",
    "print(a)\n",
    "\n",
    "b =  tf.constant(2.)\n",
    "print(b)"
   ]
  },
  {
   "cell_type": "code",
   "execution_count": 25,
   "metadata": {},
   "outputs": [
    {
     "name": "stdout",
     "output_type": "stream",
     "text": [
      "Error\n",
      "tf.Tensor(4, shape=(), dtype=int32)\n"
     ]
    }
   ],
   "source": [
    "try:\n",
    "    a + b\n",
    "except:\n",
    "    print('Error')\n",
    "\n",
    "print(a + tf.cast(b,tf.int32))"
   ]
  },
  {
   "cell_type": "code",
   "execution_count": 26,
   "metadata": {},
   "outputs": [],
   "source": [
    "# Auto Graph"
   ]
  },
  {
   "cell_type": "code",
   "execution_count": 27,
   "metadata": {},
   "outputs": [],
   "source": [
    "import timeit"
   ]
  },
  {
   "cell_type": "code",
   "execution_count": 28,
   "metadata": {},
   "outputs": [
    {
     "name": "stdout",
     "output_type": "stream",
     "text": [
      "tf.Tensor(-13, shape=(), dtype=int32)\n",
      "tf.Tensor(-13, shape=(), dtype=int32)\n"
     ]
    }
   ],
   "source": [
    "@tf.function\n",
    "def my_function(x):\n",
    "    return x**2 - 10*x + 3\n",
    "\n",
    "print(my_function(2))\n",
    "print(my_function(tf.constant(2)))"
   ]
  },
  {
   "cell_type": "code",
   "execution_count": 29,
   "metadata": {},
   "outputs": [
    {
     "name": "stdout",
     "output_type": "stream",
     "text": [
      "-13\n",
      "tf.Tensor(-13, shape=(), dtype=int32)\n"
     ]
    }
   ],
   "source": [
    "def my_function_(x):\n",
    "    return x**2 - 10*x +3\n",
    "\n",
    "print(my_function_(2))\n",
    "print(my_function_(tf.constant(2)))"
   ]
  },
  {
   "cell_type": "code",
   "execution_count": 30,
   "metadata": {},
   "outputs": [
    {
     "name": "stdout",
     "output_type": "stream",
     "text": [
      "<tensorflow.python.eager.def_function.Function object at 0x000002437F39DD90>\n",
      "tf.Tensor(-13, shape=(), dtype=int32)\n"
     ]
    }
   ],
   "source": [
    "tf_my_func = tf.function(my_function_)\n",
    "\n",
    "print(tf_my_func)\n",
    "print(tf_my_func(2))"
   ]
  },
  {
   "cell_type": "code",
   "execution_count": 31,
   "metadata": {},
   "outputs": [
    {
     "data": {
      "text/plain": [
       "-13"
      ]
     },
     "execution_count": 31,
     "metadata": {},
     "output_type": "execute_result"
    }
   ],
   "source": [
    "tf_my_func.python_function(2)"
   ]
  },
  {
   "cell_type": "code",
   "execution_count": 32,
   "metadata": {},
   "outputs": [
    {
     "data": {
      "text/plain": [
       "array([[12.]], dtype=float32)"
      ]
     },
     "execution_count": 32,
     "metadata": {},
     "output_type": "execute_result"
    }
   ],
   "source": [
    "def function_to_get_faster(x,y,b):\n",
    "    x = tf.matmul(x,y)\n",
    "    x = x+b\n",
    "    return x\n",
    "\n",
    "a_function_that_uses_a_graph = tf.function(function_to_get_faster)\n",
    "\n",
    "x1 = tf.constant([[1.,2.]])\n",
    "y1 = tf.constant([[2.],[3.]])\n",
    "b1 = tf.constant(4.)\n",
    "\n",
    "a_function_that_uses_a_graph(x1,y1,b1).numpy()"
   ]
  },
  {
   "cell_type": "code",
   "execution_count": 33,
   "metadata": {},
   "outputs": [
    {
     "data": {
      "text/plain": [
       "array([[12.]], dtype=float32)"
      ]
     },
     "execution_count": 33,
     "metadata": {},
     "output_type": "execute_result"
    }
   ],
   "source": [
    "def inner_function(x,y,b):\n",
    "    x = tf.matmul(x,y)\n",
    "    x = x + b\n",
    "    return x\n",
    "\n",
    "@tf.function\n",
    "def outer_function(x):\n",
    "    y = tf.constant([[2.],[3.]])\n",
    "    b = tf.constant(4.)\n",
    "    return inner_function(x,y,b)\n",
    "\n",
    "outer_function(tf.constant([[1.,2.]])).numpy()"
   ]
  },
  {
   "cell_type": "code",
   "execution_count": 34,
   "metadata": {},
   "outputs": [
    {
     "name": "stdout",
     "output_type": "stream",
     "text": [
      "def tf__my_function(x):\n",
      "    with ag__.FunctionScope('my_function', 'fscope', ag__.ConversionOptions(recursive=True, user_requested=True, optional_features=(), internal_convert_user_code=True)) as fscope:\n",
      "        do_return = False\n",
      "        retval_ = ag__.UndefinedReturnValue()\n",
      "        try:\n",
      "            do_return = True\n",
      "            retval_ = (((ag__.ld(x) ** 2) - (10 * ag__.ld(x))) + 3)\n",
      "        except:\n",
      "            do_return = False\n",
      "            raise\n",
      "        return fscope.ret(retval_, do_return)\n",
      "\n"
     ]
    }
   ],
   "source": [
    "print(tf.autograph.to_code(my_function.python_function))"
   ]
  },
  {
   "cell_type": "code",
   "execution_count": 35,
   "metadata": {},
   "outputs": [
    {
     "name": "stdout",
     "output_type": "stream",
     "text": [
      "<tf.Variable 'Variable:0' shape=() dtype=float32, numpy=20.0>\n"
     ]
    }
   ],
   "source": [
    "X = tf.Variable(20.)\n",
    "\n",
    "print(X)"
   ]
  },
  {
   "cell_type": "code",
   "execution_count": 36,
   "metadata": {},
   "outputs": [],
   "source": [
    "# AutoGrad"
   ]
  },
  {
   "cell_type": "code",
   "execution_count": 37,
   "metadata": {},
   "outputs": [],
   "source": [
    "x = tf.Variable(3.0)\n",
    "\n",
    "with tf.GradientTape() as tape:\n",
    "    y = x**2"
   ]
  },
  {
   "cell_type": "code",
   "execution_count": 38,
   "metadata": {},
   "outputs": [
    {
     "data": {
      "text/plain": [
       "6.0"
      ]
     },
     "execution_count": 38,
     "metadata": {},
     "output_type": "execute_result"
    }
   ],
   "source": [
    "dy_dx = tape.gradient(y,x) # 한번만 가능\n",
    "dy_dx.numpy()"
   ]
  },
  {
   "cell_type": "code",
   "execution_count": 39,
   "metadata": {},
   "outputs": [
    {
     "name": "stdout",
     "output_type": "stream",
     "text": [
      "dz/dx: tf.Tensor(4.0, shape=(), dtype=float32)\n",
      "dz/dy: None\n"
     ]
    }
   ],
   "source": [
    "x = tf.Variable(2.0)\n",
    "y = tf.Variable(3.0)\n",
    "\n",
    "with tf.GradientTape() as tape:\n",
    "    y_sq = y**2\n",
    "    z = x**2 + tf.stop_gradient(y_sq)\n",
    "\n",
    "grad = tape.gradient(z, {'x':x,'y':y})\n",
    "\n",
    "print('dz/dx:', grad['x'])\n",
    "print('dz/dy:', grad['y'])"
   ]
  },
  {
   "cell_type": "code",
   "execution_count": 40,
   "metadata": {},
   "outputs": [],
   "source": [
    "# 신경망"
   ]
  },
  {
   "cell_type": "code",
   "execution_count": 41,
   "metadata": {},
   "outputs": [],
   "source": [
    "def sigmoid(x):\n",
    "    return (1/(1+np.exp(-x)))\n",
    "\n",
    "def Neuron(x,W,bias=0):\n",
    "    z = x + W +bias\n",
    "    return sigmoid(z)"
   ]
  },
  {
   "cell_type": "code",
   "execution_count": 42,
   "metadata": {},
   "outputs": [
    {
     "name": "stdout",
     "output_type": "stream",
     "text": [
      "x.shape: (1, 2)\n",
      "W.shape: (1, 2)\n",
      "tf.Tensor([[-0.71963066 -1.5325439 ]], shape=(1, 2), dtype=float32)\n",
      "tf.Tensor([[-0.9744345  1.71544  ]], shape=(1, 2), dtype=float32)\n",
      "[[0.155242   0.54559696]]\n"
     ]
    }
   ],
   "source": [
    "x = tf.random.normal((1,2),0,1)\n",
    "W = tf.random.normal((1,2),0,1)\n",
    "\n",
    "print('x.shape:', x.shape)\n",
    "print('W.shape:', W.shape)\n",
    "\n",
    "print(x)\n",
    "print(W)\n",
    "\n",
    "print(Neuron(x,W))"
   ]
  },
  {
   "cell_type": "code",
   "execution_count": 43,
   "metadata": {},
   "outputs": [
    {
     "name": "stdout",
     "output_type": "stream",
     "text": [
      "x.shape: (2, 1)\n",
      "W.shape: (2, 1)\n",
      "tf.Tensor(\n",
      "[[0.20588405]\n",
      " [0.03513855]], shape=(2, 1), dtype=float32)\n",
      "tf.Tensor(\n",
      "[[0.15157706]\n",
      " [0.6626978 ]], shape=(2, 1), dtype=float32)\n",
      "[[0.5884257]\n",
      " [0.6677079]]\n"
     ]
    }
   ],
   "source": [
    "x = tf.random.normal((2,1),0,1)\n",
    "W = tf.random.normal((2,1),0,1)\n",
    "\n",
    "print('x.shape:', x.shape)\n",
    "print('W.shape:', W.shape)\n",
    "\n",
    "print(x)\n",
    "print(W)\n",
    "\n",
    "print(Neuron(x,W))"
   ]
  },
  {
   "cell_type": "code",
   "execution_count": 44,
   "metadata": {},
   "outputs": [
    {
     "name": "stdout",
     "output_type": "stream",
     "text": [
      "x.shape: (1,)\n",
      "W.shape: (2, 1)\n",
      "tf.Tensor([-0.23760927], shape=(1,), dtype=float32)\n",
      "tf.Tensor(\n",
      "[[-0.12860374]\n",
      " [ 0.7305691 ]], shape=(2, 1), dtype=float32)\n",
      "[[0.4094564]\n",
      " [0.6208035]]\n"
     ]
    }
   ],
   "source": [
    "x = tf.random.normal((1,),0,1)\n",
    "W = tf.random.normal((2,1),0,1)\n",
    "\n",
    "print('x.shape:', x.shape)\n",
    "print('W.shape:', W.shape)\n",
    "\n",
    "print(x)\n",
    "print(W)\n",
    "\n",
    "print(Neuron(x,W))"
   ]
  },
  {
   "cell_type": "code",
   "execution_count": 45,
   "metadata": {},
   "outputs": [],
   "source": [
    "# 퍼셉트론\n",
    "# w(next step) = (가중치) + (힉습룰)(정답 레이블 - 예측 레이블)x"
   ]
  },
  {
   "cell_type": "code",
   "execution_count": 46,
   "metadata": {},
   "outputs": [
    {
     "name": "stdout",
     "output_type": "stream",
     "text": [
      "[0.7236295]\n",
      "y: 0\n"
     ]
    }
   ],
   "source": [
    "x = 1\n",
    "y = 0\n",
    "W = tf.random.normal([1],0,1)\n",
    "print(Neuron(x,W))\n",
    "print('y:',y)"
   ]
  },
  {
   "cell_type": "code",
   "execution_count": 47,
   "metadata": {},
   "outputs": [
    {
     "name": "stdout",
     "output_type": "stream",
     "text": [
      "100\t[-0.1189407]\t[0.1189407]\n",
      "200\t[-0.0567034]\t[0.0567034]\n",
      "300\t[-0.03676064]\t[0.03676064]\n",
      "400\t[-0.02709788]\t[0.02709788]\n",
      "500\t[-0.02142508]\t[0.02142508]\n",
      "600\t[-0.0177025]\t[0.0177025]\n",
      "700\t[-0.01507523]\t[0.01507523]\n",
      "800\t[-0.01312328]\t[0.01312328]\n",
      "900\t[-0.01161671]\t[0.01161671]\n",
      "1000\t[-0.01041903]\t[0.01041903]\n"
     ]
    }
   ],
   "source": [
    "for i in range(1000):\n",
    "    output = Neuron(x,W)\n",
    "    error = y - output\n",
    "    W = W + x*0.1*error\n",
    "\n",
    "    if i%100 == 99:\n",
    "        print('{}\\t{}\\t{}'.format(i+1,error,output))"
   ]
  },
  {
   "cell_type": "code",
   "execution_count": 48,
   "metadata": {},
   "outputs": [],
   "source": [
    "def Neuron2(x,W,bias = 0):\n",
    "    z = tf.matmul(x,W, transpose_b=True) + bias\n",
    "    return sigmoid(z)"
   ]
  },
  {
   "cell_type": "code",
   "execution_count": 49,
   "metadata": {},
   "outputs": [
    {
     "name": "stdout",
     "output_type": "stream",
     "text": [
      "[[0.6466776]]\n",
      "y: tf.Tensor([1.], shape=(1,), dtype=float32)\n"
     ]
    }
   ],
   "source": [
    "x = tf.random.normal((1,3),0,1)\n",
    "y = tf.ones(1)\n",
    "W = tf.random.normal((1,3),0,1)\n",
    "\n",
    "print(Neuron2(x,W))\n",
    "print('y:',y)"
   ]
  },
  {
   "cell_type": "code",
   "execution_count": 50,
   "metadata": {},
   "outputs": [
    {
     "name": "stdout",
     "output_type": "stream",
     "text": [
      "100\t[[0.08524281]]\t[[0.9147572]]\n",
      "200\t[[0.04586595]]\t[[0.95413405]]\n",
      "300\t[[0.03113246]]\t[[0.96886754]]\n",
      "400\t[[0.02350336]]\t[[0.97649664]]\n",
      "500\t[[0.01885581]]\t[[0.9811442]]\n",
      "600\t[[0.0157333]]\t[[0.9842667]]\n",
      "700\t[[0.01349306]]\t[[0.98650694]]\n",
      "800\t[[0.01180857]]\t[[0.9881914]]\n",
      "900\t[[0.01049626]]\t[[0.98950374]]\n",
      "1000\t[[0.00944549]]\t[[0.9905545]]\n"
     ]
    }
   ],
   "source": [
    "for i in range(1000):\n",
    "    output = Neuron2(x,W)\n",
    "    error = y - output\n",
    "    W = W + x * 0.1 * error\n",
    "\n",
    "    if i % 100 == 99:\n",
    "        print('{}\\t{}\\t{}'.format(i+1,error,output))"
   ]
  },
  {
   "cell_type": "code",
   "execution_count": 51,
   "metadata": {},
   "outputs": [
    {
     "name": "stdout",
     "output_type": "stream",
     "text": [
      "x\t: [[-0.08021466  0.4105608  -1.3822674 ]]\n",
      "weight\t: [[ 1.0066885   0.68073773 -0.04712626]]\n",
      "bias\t: [[0.]]\n"
     ]
    }
   ],
   "source": [
    "x = tf.random.normal((1,3),0,1)\n",
    "weight = tf.random.normal((1,3),0,1)\n",
    "bias = tf.zeros((1,1))\n",
    "\n",
    "y = tf.ones((1,))\n",
    "\n",
    "print('x\\t: {}\\nweight\\t: {}\\nbias\\t: {}'.format(x,weight,bias))"
   ]
  },
  {
   "cell_type": "code",
   "execution_count": 52,
   "metadata": {},
   "outputs": [
    {
     "name": "stdout",
     "output_type": "stream",
     "text": [
      "100\t[[0.03317541]]\t[[0.9668246]]\n",
      "200\t[[0.01655775]]\t[[0.98344225]]\n",
      "300\t[[0.01100105]]\t[[0.98899895]]\n",
      "400\t[[0.00822985]]\t[[0.99177015]]\n",
      "500\t[[0.00657147]]\t[[0.9934285]]\n",
      "600\t[[0.00546837]]\t[[0.99453163]]\n",
      "700\t[[0.00468177]]\t[[0.99531823]]\n",
      "800\t[[0.00409269]]\t[[0.9959073]]\n",
      "900\t[[0.00363511]]\t[[0.9963649]]\n",
      "1000\t[[0.00326943]]\t[[0.99673057]]\n"
     ]
    }
   ],
   "source": [
    "for i in range(1000):\n",
    "    output = Neuron2(x, weight,bias = bias)\n",
    "    error = y - output\n",
    "    weight = weight + x * 0.1 * error\n",
    "    bias = bias + 1*0.1*error\n",
    "\n",
    "    if i % 100 ==99:\n",
    "        print(\"{}\\t{}\\t{}\".format(i+1, error,output))"
   ]
  },
  {
   "cell_type": "code",
   "execution_count": 53,
   "metadata": {},
   "outputs": [
    {
     "name": "stdout",
     "output_type": "stream",
     "text": [
      "x\t: [[-0.08021466  0.4105608  -1.3822674 ]]\n",
      "weight\t: [[ 0.86482906  1.4068148  -2.4916677 ]]\n",
      "bias\t: [[1.768504]]\n"
     ]
    }
   ],
   "source": [
    "print('x\\t: {}\\nweight\\t: {}\\nbias\\t: {}'.format(x,weight,bias))"
   ]
  },
  {
   "cell_type": "code",
   "execution_count": 54,
   "metadata": {},
   "outputs": [],
   "source": [
    "# 시각화"
   ]
  },
  {
   "cell_type": "code",
   "execution_count": 55,
   "metadata": {},
   "outputs": [
    {
     "data": {
      "text/plain": [
       "<function matplotlib.pyplot.show(close=None, block=None)>"
      ]
     },
     "execution_count": 55,
     "metadata": {},
     "output_type": "execute_result"
    },
    {
     "data": {
      "image/png": "[encoded data removed]",
      "text/plain": [
       "<Figure size 432x288 with 1 Axes>"
      ]
     },
     "metadata": {},
     "output_type": "display_data"
    }
   ],
   "source": [
    "import matplotlib.pyplot as plt\n",
    "plt.style.use('seaborn-white')\n",
    "\n",
    "x = range(50)\n",
    "y = tf.random.normal([50],0,1)\n",
    "plt.plot(x,y)\n",
    "plt.show"
   ]
  },
  {
   "cell_type": "code",
   "execution_count": 56,
   "metadata": {},
   "outputs": [
    {
     "data": {
      "text/plain": [
       "<function matplotlib.pyplot.show(close=None, block=None)>"
      ]
     },
     "execution_count": 56,
     "metadata": {},
     "output_type": "execute_result"
    },
    {
     "data": {
      "image/png": "[encoded data removed]",
      "text/plain": [
       "<Figure size 432x288 with 1 Axes>"
      ]
     },
     "metadata": {},
     "output_type": "display_data"
    }
   ],
   "source": [
    "x = range(50)\n",
    "y = tf.random.normal([50],0,1)\n",
    "plt.plot(x,y,'ro')\n",
    "plt.show"
   ]
  },
  {
   "cell_type": "code",
   "execution_count": 57,
   "metadata": {},
   "outputs": [
    {
     "data": {
      "text/plain": [
       "<function matplotlib.pyplot.show(close=None, block=None)>"
      ]
     },
     "execution_count": 57,
     "metadata": {},
     "output_type": "execute_result"
    },
    {
     "data": {
      "image/png": "[encoded data removed]",
      "text/plain": [
       "<Figure size 432x288 with 1 Axes>"
      ]
     },
     "metadata": {},
     "output_type": "display_data"
    }
   ],
   "source": [
    "x = range(50)\n",
    "y = tf.random.normal([50],0,1)\n",
    "plt.plot(x,y,'g-')\n",
    "plt.show"
   ]
  },
  {
   "cell_type": "code",
   "execution_count": 58,
   "metadata": {},
   "outputs": [
    {
     "data": {
      "text/plain": [
       "<function matplotlib.pyplot.show(close=None, block=None)>"
      ]
     },
     "execution_count": 58,
     "metadata": {},
     "output_type": "execute_result"
    },
    {
     "data": {
      "image/png": "[encoded data removed]",
      "text/plain": [
       "<Figure size 432x288 with 1 Axes>"
      ]
     },
     "metadata": {},
     "output_type": "display_data"
    }
   ],
   "source": [
    "x = range(50)\n",
    "y = tf.random.normal([50],0,1)\n",
    "plt.plot(x,y,'b--')\n",
    "plt.show"
   ]
  },
  {
   "cell_type": "code",
   "execution_count": 65,
   "metadata": {},
   "outputs": [
    {
     "data": {
      "image/png": "[encoded data removed]",
      "text/plain": [
       "<Figure size 432x288 with 1 Axes>"
      ]
     },
     "metadata": {},
     "output_type": "display_data"
    }
   ],
   "source": [
    "random_normal = tf.random.normal([100],0,1)\n",
    "plt.hist(random_normal, bins=2)\n",
    "plt.show()"
   ]
  }
 ],
 "metadata": {
  "interpreter": {
   "hash": "277ba694123044f92ff0a2480e6f3f67f060cfa9edaae1b0be2ba1f5ffe83186"
  },
  "kernelspec": {
   "display_name": "Python 3.6.12 64-bit ('pythoncode': conda)",
   "language": "python",
   "name": "python3"
  },
  "language_info": {
   "codemirror_mode": {
    "name": "ipython",
    "version": 3
   },
   "file_extension": ".py",
   "mimetype": "text/x-python",
   "name": "python",
   "nbconvert_exporter": "python",
   "pygments_lexer": "ipython3",
   "version": "3.8.12"
  },
  "orig_nbformat": 4
 },
 "nbformat": 4,
 "nbformat_minor": 2
}
