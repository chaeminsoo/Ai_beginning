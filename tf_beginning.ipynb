{
 "cells": [
  {
   "cell_type": "code",
   "execution_count": 1,
   "metadata": {},
   "outputs": [],
   "source": [
    "import numpy as np\n",
    "import tensorflow as tf"
   ]
  },
  {
   "cell_type": "code",
   "execution_count": 2,
   "metadata": {},
   "outputs": [
    {
     "name": "stdout",
     "output_type": "stream",
     "text": [
      "2.6.2\n"
     ]
    }
   ],
   "source": [
    "print(tf.__version__)"
   ]
  },
  {
   "cell_type": "code",
   "execution_count": 3,
   "metadata": {},
   "outputs": [],
   "source": [
    "# Tensor의 객체\n",
    "\n",
    "# type: string, float etc\n",
    "# shpape: demention of data\n",
    "# Rank: number of demention"
   ]
  },
  {
   "cell_type": "code",
   "execution_count": 4,
   "metadata": {},
   "outputs": [
    {
     "name": "stdout",
     "output_type": "stream",
     "text": [
      "tf.Tensor(0, shape=(), dtype=int32)\n",
      "tf.Tensor(2, shape=(), dtype=int32)\n"
     ]
    }
   ],
   "source": [
    "a = tf.constant(2)\n",
    "print(tf.rank(a))\n",
    "print(a)"
   ]
  },
  {
   "cell_type": "code",
   "execution_count": 5,
   "metadata": {},
   "outputs": [
    {
     "name": "stdout",
     "output_type": "stream",
     "text": [
      "tf.Tensor(1, shape=(), dtype=int32)\n",
      "tf.Tensor([2 3], shape=(2,), dtype=int32)\n"
     ]
    }
   ],
   "source": [
    "b = tf.constant([2,3])\n",
    "print(tf.rank(b))\n",
    "print(b)"
   ]
  },
  {
   "cell_type": "code",
   "execution_count": 6,
   "metadata": {},
   "outputs": [
    {
     "name": "stdout",
     "output_type": "stream",
     "text": [
      "tf.Tensor(2, shape=(), dtype=int32)\n",
      "tf.Tensor(\n",
      "[[2 3]\n",
      " [6 7]], shape=(2, 2), dtype=int32)\n"
     ]
    }
   ],
   "source": [
    "c = tf.constant([[2,3],[6,7]])\n",
    "print(tf.rank(c))\n",
    "print(c)"
   ]
  },
  {
   "cell_type": "code",
   "execution_count": 7,
   "metadata": {},
   "outputs": [
    {
     "name": "stdout",
     "output_type": "stream",
     "text": [
      "tf.Tensor(1, shape=(), dtype=int32)\n",
      "tf.Tensor([b'hello'], shape=(1,), dtype=string)\n"
     ]
    }
   ],
   "source": [
    "d = tf.constant(['hello'])\n",
    "print(tf.rank(d))\n",
    "print(d)"
   ]
  },
  {
   "cell_type": "code",
   "execution_count": 8,
   "metadata": {},
   "outputs": [
    {
     "name": "stdout",
     "output_type": "stream",
     "text": [
      "(1,)\n",
      "tf.Tensor([0.600996], shape=(1,), dtype=float32)\n"
     ]
    }
   ],
   "source": [
    "rand  = tf.random.uniform([1], 0,1)\n",
    "print(rand.shape)\n",
    "print(rand)"
   ]
  },
  {
   "cell_type": "code",
   "execution_count": 9,
   "metadata": {},
   "outputs": [
    {
     "name": "stdout",
     "output_type": "stream",
     "text": [
      "(1, 2)\n",
      "tf.Tensor([[0.6092713  0.30268526]], shape=(1, 2), dtype=float32)\n"
     ]
    }
   ],
   "source": [
    "rand2 = tf.random.normal([1,2],0,1)\n",
    "print(rand2.shape)\n",
    "print(rand2)"
   ]
  },
  {
   "cell_type": "code",
   "execution_count": 10,
   "metadata": {},
   "outputs": [
    {
     "name": "stdout",
     "output_type": "stream",
     "text": [
      "(3, 2)\n",
      "tf.Tensor(\n",
      "[[-0.16663936 -0.9651545 ]\n",
      " [-0.4177425  -0.27948734]\n",
      " [ 0.87869984 -1.0158862 ]], shape=(3, 2), dtype=float32)\n"
     ]
    }
   ],
   "source": [
    "rand3 = tf.random.normal(shape=(3,2), mean = 0, stddev= 1)\n",
    "print(rand3.shape)\n",
    "print(rand3)"
   ]
  },
  {
   "cell_type": "code",
   "execution_count": 11,
   "metadata": {},
   "outputs": [],
   "source": [
    "# Eager Mode\n",
    "a = tf.constant(3)\n",
    "b = tf.constant(2)"
   ]
  },
  {
   "cell_type": "code",
   "execution_count": 12,
   "metadata": {},
   "outputs": [
    {
     "name": "stdout",
     "output_type": "stream",
     "text": [
      "tf.Tensor(5, shape=(), dtype=int32)\n",
      "tf.Tensor(5, shape=(), dtype=int32)\n"
     ]
    }
   ],
   "source": [
    "print(tf.add(a,b))\n",
    "print(a+b)"
   ]
  },
  {
   "cell_type": "code",
   "execution_count": 13,
   "metadata": {},
   "outputs": [
    {
     "name": "stdout",
     "output_type": "stream",
     "text": [
      "tf.Tensor(1, shape=(), dtype=int32)\n",
      "tf.Tensor(1, shape=(), dtype=int32)\n"
     ]
    }
   ],
   "source": [
    "print(tf.subtract(a,b))\n",
    "print(a-b)"
   ]
  },
  {
   "cell_type": "code",
   "execution_count": 14,
   "metadata": {},
   "outputs": [
    {
     "name": "stdout",
     "output_type": "stream",
     "text": [
      "tf.Tensor(6, shape=(), dtype=int32)\n",
      "tf.Tensor(6, shape=(), dtype=int32)\n"
     ]
    }
   ],
   "source": [
    "print(tf.multiply(a,b))\n",
    "print(a*b)"
   ]
  },
  {
   "cell_type": "code",
   "execution_count": 15,
   "metadata": {},
   "outputs": [
    {
     "name": "stdout",
     "output_type": "stream",
     "text": [
      "<class 'numpy.int32'>\n"
     ]
    }
   ],
   "source": [
    "c = tf.add(a,b).numpy()\n",
    "print(type(c))"
   ]
  },
  {
   "cell_type": "code",
   "execution_count": 16,
   "metadata": {},
   "outputs": [
    {
     "name": "stdout",
     "output_type": "stream",
     "text": [
      "tf.Tensor(25.0, shape=(), dtype=float32)\n",
      "<class 'tensorflow.python.framework.ops.EagerTensor'>\n"
     ]
    }
   ],
   "source": [
    "c_sqaure = np.square(c,dtype = np.float32)\n",
    "c_tensor = tf.convert_to_tensor(c_sqaure)\n",
    "\n",
    "print(c_tensor)\n",
    "print(type(c_tensor))"
   ]
  },
  {
   "cell_type": "code",
   "execution_count": 17,
   "metadata": {},
   "outputs": [
    {
     "name": "stdout",
     "output_type": "stream",
     "text": [
      "(2, 3)\n",
      "<dtype: 'float32'>\n"
     ]
    }
   ],
   "source": [
    "t = tf.constant([[1.,2.,3.],[4.,5.,6.,]])\n",
    "\n",
    "print(t.shape)\n",
    "print(t.dtype)"
   ]
  },
  {
   "cell_type": "code",
   "execution_count": 18,
   "metadata": {},
   "outputs": [
    {
     "name": "stdout",
     "output_type": "stream",
     "text": [
      "tf.Tensor(\n",
      "[[2. 3.]\n",
      " [5. 6.]], shape=(2, 2), dtype=float32)\n"
     ]
    }
   ],
   "source": [
    "print(t[:,1:])"
   ]
  },
  {
   "cell_type": "code",
   "execution_count": 19,
   "metadata": {},
   "outputs": [
    {
     "data": {
      "text/plain": [
       "<tf.Tensor: shape=(2, 1), dtype=float32, numpy=\n",
       "array([[2.],\n",
       "       [5.]], dtype=float32)>"
      ]
     },
     "execution_count": 19,
     "metadata": {},
     "output_type": "execute_result"
    }
   ],
   "source": [
    "t[..., 1, tf.newaxis]"
   ]
  },
  {
   "cell_type": "code",
   "execution_count": 20,
   "metadata": {},
   "outputs": [
    {
     "data": {
      "text/plain": [
       "<tf.Tensor: shape=(2, 3), dtype=float32, numpy=\n",
       "array([[11., 12., 13.],\n",
       "       [14., 15., 16.]], dtype=float32)>"
      ]
     },
     "execution_count": 20,
     "metadata": {},
     "output_type": "execute_result"
    }
   ],
   "source": [
    "t + 10"
   ]
  },
  {
   "cell_type": "code",
   "execution_count": 21,
   "metadata": {},
   "outputs": [
    {
     "data": {
      "text/plain": [
       "<tf.Tensor: shape=(2, 3), dtype=float32, numpy=\n",
       "array([[ 1.,  4.,  9.],\n",
       "       [16., 25., 36.]], dtype=float32)>"
      ]
     },
     "execution_count": 21,
     "metadata": {},
     "output_type": "execute_result"
    }
   ],
   "source": [
    "tf.square(t)"
   ]
  },
  {
   "cell_type": "code",
   "execution_count": 22,
   "metadata": {},
   "outputs": [
    {
     "data": {
      "text/plain": [
       "<tf.Tensor: shape=(2, 2), dtype=float32, numpy=\n",
       "array([[14., 32.],\n",
       "       [32., 77.]], dtype=float32)>"
      ]
     },
     "execution_count": 22,
     "metadata": {},
     "output_type": "execute_result"
    }
   ],
   "source": [
    "t @ tf.transpose(t)"
   ]
  },
  {
   "cell_type": "code",
   "execution_count": 23,
   "metadata": {},
   "outputs": [],
   "source": [
    "# type 변환 `type이 다르면 계산 안됨`"
   ]
  },
  {
   "cell_type": "code",
   "execution_count": 24,
   "metadata": {},
   "outputs": [
    {
     "name": "stdout",
     "output_type": "stream",
     "text": [
      "tf.Tensor(2, shape=(), dtype=int32)\n",
      "tf.Tensor(2.0, shape=(), dtype=float32)\n"
     ]
    }
   ],
   "source": [
    "a = tf.constant(2)\n",
    "print(a)\n",
    "\n",
    "b =  tf.constant(2.)\n",
    "print(b)"
   ]
  },
  {
   "cell_type": "code",
   "execution_count": 25,
   "metadata": {},
   "outputs": [
    {
     "name": "stdout",
     "output_type": "stream",
     "text": [
      "Error\n",
      "tf.Tensor(4, shape=(), dtype=int32)\n"
     ]
    }
   ],
   "source": [
    "try:\n",
    "    a + b\n",
    "except:\n",
    "    print('Error')\n",
    "\n",
    "print(a + tf.cast(b,tf.int32))"
   ]
  },
  {
   "cell_type": "code",
   "execution_count": 26,
   "metadata": {},
   "outputs": [],
   "source": [
    "# Auto Graph"
   ]
  },
  {
   "cell_type": "code",
   "execution_count": 27,
   "metadata": {},
   "outputs": [],
   "source": [
    "import timeit"
   ]
  },
  {
   "cell_type": "code",
   "execution_count": 28,
   "metadata": {},
   "outputs": [
    {
     "name": "stdout",
     "output_type": "stream",
     "text": [
      "tf.Tensor(-13, shape=(), dtype=int32)\n",
      "tf.Tensor(-13, shape=(), dtype=int32)\n"
     ]
    }
   ],
   "source": [
    "@tf.function\n",
    "def my_function(x):\n",
    "    return x**2 - 10*x + 3\n",
    "\n",
    "print(my_function(2))\n",
    "print(my_function(tf.constant(2)))"
   ]
  },
  {
   "cell_type": "code",
   "execution_count": 29,
   "metadata": {},
   "outputs": [
    {
     "name": "stdout",
     "output_type": "stream",
     "text": [
      "-13\n",
      "tf.Tensor(-13, shape=(), dtype=int32)\n"
     ]
    }
   ],
   "source": [
    "def my_function_(x):\n",
    "    return x**2 - 10*x +3\n",
    "\n",
    "print(my_function_(2))\n",
    "print(my_function_(tf.constant(2)))"
   ]
  },
  {
   "cell_type": "code",
   "execution_count": 30,
   "metadata": {},
   "outputs": [
    {
     "name": "stdout",
     "output_type": "stream",
     "text": [
      "<tensorflow.python.eager.def_function.Function object at 0x0000018925BED710>\n",
      "tf.Tensor(-13, shape=(), dtype=int32)\n"
     ]
    }
   ],
   "source": [
    "tf_my_func = tf.function(my_function_)\n",
    "\n",
    "print(tf_my_func)\n",
    "print(tf_my_func(2))"
   ]
  },
  {
   "cell_type": "code",
   "execution_count": 31,
   "metadata": {},
   "outputs": [
    {
     "data": {
      "text/plain": [
       "-13"
      ]
     },
     "execution_count": 31,
     "metadata": {},
     "output_type": "execute_result"
    }
   ],
   "source": [
    "tf_my_func.python_function(2)"
   ]
  },
  {
   "cell_type": "code",
   "execution_count": 32,
   "metadata": {},
   "outputs": [
    {
     "data": {
      "text/plain": [
       "array([[12.]], dtype=float32)"
      ]
     },
     "execution_count": 32,
     "metadata": {},
     "output_type": "execute_result"
    }
   ],
   "source": [
    "def function_to_get_faster(x,y,b):\n",
    "    x = tf.matmul(x,y)\n",
    "    x = x+b\n",
    "    return x\n",
    "\n",
    "a_function_that_uses_a_graph = tf.function(function_to_get_faster)\n",
    "\n",
    "x1 = tf.constant([[1.,2.]])\n",
    "y1 = tf.constant([[2.],[3.]])\n",
    "b1 = tf.constant(4.)\n",
    "\n",
    "a_function_that_uses_a_graph(x1,y1,b1).numpy()"
   ]
  },
  {
   "cell_type": "code",
   "execution_count": 33,
   "metadata": {},
   "outputs": [
    {
     "data": {
      "text/plain": [
       "array([[12.]], dtype=float32)"
      ]
     },
     "execution_count": 33,
     "metadata": {},
     "output_type": "execute_result"
    }
   ],
   "source": [
    "def inner_function(x,y,b):\n",
    "    x = tf.matmul(x,y)\n",
    "    x = x + b\n",
    "    return x\n",
    "\n",
    "@tf.function\n",
    "def outer_function(x):\n",
    "    y = tf.constant([[2.],[3.]])\n",
    "    b = tf.constant(4.)\n",
    "    return inner_function(x,y,b)\n",
    "\n",
    "outer_function(tf.constant([[1.,2.]])).numpy()"
   ]
  },
  {
   "cell_type": "code",
   "execution_count": 34,
   "metadata": {},
   "outputs": [
    {
     "name": "stdout",
     "output_type": "stream",
     "text": [
      "def tf__my_function(x):\n",
      "    with ag__.FunctionScope('my_function', 'fscope', ag__.ConversionOptions(recursive=True, user_requested=True, optional_features=(), internal_convert_user_code=True)) as fscope:\n",
      "        do_return = False\n",
      "        retval_ = ag__.UndefinedReturnValue()\n",
      "        try:\n",
      "            do_return = True\n",
      "            retval_ = (((ag__.ld(x) ** 2) - (10 * ag__.ld(x))) + 3)\n",
      "        except:\n",
      "            do_return = False\n",
      "            raise\n",
      "        return fscope.ret(retval_, do_return)\n",
      "\n"
     ]
    }
   ],
   "source": [
    "print(tf.autograph.to_code(my_function.python_function))"
   ]
  },
  {
   "cell_type": "code",
   "execution_count": 35,
   "metadata": {},
   "outputs": [
    {
     "name": "stdout",
     "output_type": "stream",
     "text": [
      "<tf.Variable 'Variable:0' shape=() dtype=float32, numpy=20.0>\n"
     ]
    }
   ],
   "source": [
    "X = tf.Variable(20.)\n",
    "\n",
    "print(X)"
   ]
  },
  {
   "cell_type": "code",
   "execution_count": 36,
   "metadata": {},
   "outputs": [],
   "source": [
    "# AutoGrad"
   ]
  },
  {
   "cell_type": "code",
   "execution_count": 37,
   "metadata": {},
   "outputs": [],
   "source": [
    "x = tf.Variable(3.0)\n",
    "\n",
    "with tf.GradientTape() as tape:\n",
    "    y = x**2"
   ]
  },
  {
   "cell_type": "code",
   "execution_count": 38,
   "metadata": {},
   "outputs": [
    {
     "data": {
      "text/plain": [
       "6.0"
      ]
     },
     "execution_count": 38,
     "metadata": {},
     "output_type": "execute_result"
    }
   ],
   "source": [
    "dy_dx = tape.gradient(y,x) # 한번만 가능\n",
    "dy_dx.numpy()"
   ]
  },
  {
   "cell_type": "code",
   "execution_count": 39,
   "metadata": {},
   "outputs": [
    {
     "name": "stdout",
     "output_type": "stream",
     "text": [
      "dz/dx: tf.Tensor(4.0, shape=(), dtype=float32)\n",
      "dz/dy: None\n"
     ]
    }
   ],
   "source": [
    "x = tf.Variable(2.0)\n",
    "y = tf.Variable(3.0)\n",
    "\n",
    "with tf.GradientTape() as tape:\n",
    "    y_sq = y**2\n",
    "    z = x**2 + tf.stop_gradient(y_sq)\n",
    "\n",
    "grad = tape.gradient(z, {'x':x,'y':y})\n",
    "\n",
    "print('dz/dx:', grad['x'])\n",
    "print('dz/dy:', grad['y'])"
   ]
  },
  {
   "cell_type": "code",
   "execution_count": 40,
   "metadata": {},
   "outputs": [],
   "source": [
    "# 신경망"
   ]
  },
  {
   "cell_type": "code",
   "execution_count": 41,
   "metadata": {},
   "outputs": [],
   "source": [
    "def sigmoid(x):\n",
    "    return (1/(1+np.exp(-x)))\n",
    "\n",
    "def Neuron(x,W,bias=0):\n",
    "    z = x + W +bias\n",
    "    return sigmoid(z)"
   ]
  },
  {
   "cell_type": "code",
   "execution_count": 42,
   "metadata": {},
   "outputs": [
    {
     "name": "stdout",
     "output_type": "stream",
     "text": [
      "x.shape: (1, 2)\n",
      "W.shape: (1, 2)\n",
      "tf.Tensor([[ 0.5245128  -0.41554424]], shape=(1, 2), dtype=float32)\n",
      "tf.Tensor([[0.40785816 0.07391325]], shape=(1, 2), dtype=float32)\n",
      "[[0.71755606 0.41541335]]\n"
     ]
    }
   ],
   "source": [
    "x = tf.random.normal((1,2),0,1)\n",
    "W = tf.random.normal((1,2),0,1)\n",
    "\n",
    "print('x.shape:', x.shape)\n",
    "print('W.shape:', W.shape)\n",
    "\n",
    "print(x)\n",
    "print(W)\n",
    "\n",
    "print(Neuron(x,W))"
   ]
  },
  {
   "cell_type": "code",
   "execution_count": 43,
   "metadata": {},
   "outputs": [
    {
     "name": "stdout",
     "output_type": "stream",
     "text": [
      "x.shape: (2, 1)\n",
      "W.shape: (2, 1)\n",
      "tf.Tensor(\n",
      "[[ 0.7399022 ]\n",
      " [-0.00224843]], shape=(2, 1), dtype=float32)\n",
      "tf.Tensor(\n",
      "[[-0.8063078]\n",
      " [-0.7953786]], shape=(2, 1), dtype=float32)\n",
      "[[0.48340473]\n",
      " [0.31053334]]\n"
     ]
    }
   ],
   "source": [
    "x = tf.random.normal((2,1),0,1)\n",
    "W = tf.random.normal((2,1),0,1)\n",
    "\n",
    "print('x.shape:', x.shape)\n",
    "print('W.shape:', W.shape)\n",
    "\n",
    "print(x)\n",
    "print(W)\n",
    "\n",
    "print(Neuron(x,W))"
   ]
  },
  {
   "cell_type": "code",
   "execution_count": 44,
   "metadata": {},
   "outputs": [
    {
     "name": "stdout",
     "output_type": "stream",
     "text": [
      "x.shape: (1,)\n",
      "W.shape: (2, 1)\n",
      "tf.Tensor([-0.04664742], shape=(1,), dtype=float32)\n",
      "tf.Tensor(\n",
      "[[-0.08689597]\n",
      " [ 0.19740511]], shape=(2, 1), dtype=float32)\n",
      "[[0.46666366]\n",
      " [0.5376182 ]]\n"
     ]
    }
   ],
   "source": [
    "x = tf.random.normal((1,),0,1)\n",
    "W = tf.random.normal((2,1),0,1)\n",
    "\n",
    "print('x.shape:', x.shape)\n",
    "print('W.shape:', W.shape)\n",
    "\n",
    "print(x)\n",
    "print(W)\n",
    "\n",
    "print(Neuron(x,W))"
   ]
  },
  {
   "cell_type": "code",
   "execution_count": 45,
   "metadata": {},
   "outputs": [],
   "source": [
    "# 퍼셉트론\n",
    "# w(next step) = (가중치) + (힉습룰)(정답 레이블 - 예측 레이블)x"
   ]
  },
  {
   "cell_type": "code",
   "execution_count": 46,
   "metadata": {},
   "outputs": [
    {
     "name": "stdout",
     "output_type": "stream",
     "text": [
      "[0.26868257]\n",
      "y: 0\n"
     ]
    }
   ],
   "source": [
    "x = 1\n",
    "y = 0\n",
    "W = tf.random.normal([1],0,1)\n",
    "print(Neuron(x,W))\n",
    "print('y:',y)"
   ]
  },
  {
   "cell_type": "code",
   "execution_count": 47,
   "metadata": {},
   "outputs": [
    {
     "name": "stdout",
     "output_type": "stream",
     "text": [
      "100\t[-0.08155527]\t[0.08155527]\n",
      "200\t[-0.04612057]\t[0.04612057]\n",
      "300\t[-0.03193031]\t[0.03193031]\n",
      "400\t[-0.02435858]\t[0.02435858]\n",
      "500\t[-0.0196675]\t[0.0196675]\n",
      "600\t[-0.01648147]\t[0.01648147]\n",
      "700\t[-0.01417856]\t[0.01417856]\n",
      "800\t[-0.01243738]\t[0.01243738]\n",
      "900\t[-0.01107524]\t[0.01107524]\n",
      "1000\t[-0.00998088]\t[0.00998088]\n"
     ]
    }
   ],
   "source": [
    "for i in range(1000):\n",
    "    output = Neuron(x,W)\n",
    "    error = y - output\n",
    "    W = W + x*0.1*error\n",
    "\n",
    "    if i%100 == 99:\n",
    "        print('{}\\t{}\\t{}'.format(i+1,error,output))"
   ]
  },
  {
   "cell_type": "code",
   "execution_count": 48,
   "metadata": {},
   "outputs": [],
   "source": [
    "def Neuron2(x,W,bias = 0):\n",
    "    z = tf.matmul(x,W, transpose_b=True) + bias\n",
    "    return sigmoid(z)"
   ]
  },
  {
   "cell_type": "code",
   "execution_count": 49,
   "metadata": {},
   "outputs": [
    {
     "name": "stdout",
     "output_type": "stream",
     "text": [
      "[[0.5529299]]\n",
      "y: tf.Tensor([1.], shape=(1,), dtype=float32)\n"
     ]
    }
   ],
   "source": [
    "x = tf.random.normal((1,3),0,1)\n",
    "y = tf.ones(1)\n",
    "W = tf.random.normal((1,3),0,1)\n",
    "\n",
    "print(Neuron2(x,W))\n",
    "print('y:',y)"
   ]
  },
  {
   "cell_type": "code",
   "execution_count": 50,
   "metadata": {},
   "outputs": [
    {
     "name": "stdout",
     "output_type": "stream",
     "text": [
      "100\t[[0.17537516]]\t[[0.82462484]]\n",
      "200\t[[0.10097575]]\t[[0.89902425]]\n",
      "300\t[[0.06976056]]\t[[0.93023944]]\n",
      "400\t[[0.05298078]]\t[[0.9470192]]\n",
      "500\t[[0.04259437]]\t[[0.9574056]]\n",
      "600\t[[0.03556162]]\t[[0.9644384]]\n",
      "700\t[[0.03049582]]\t[[0.9695042]]\n",
      "800\t[[0.02667856]]\t[[0.97332144]]\n",
      "900\t[[0.02370155]]\t[[0.97629845]]\n",
      "1000\t[[0.02131665]]\t[[0.97868335]]\n"
     ]
    }
   ],
   "source": [
    "for i in range(1000):\n",
    "    output = Neuron2(x,W)\n",
    "    error = y - output\n",
    "    W = W + x * 0.1 * error\n",
    "\n",
    "    if i % 100 == 99:\n",
    "        print('{}\\t{}\\t{}'.format(i+1,error,output))"
   ]
  },
  {
   "cell_type": "code",
   "execution_count": 51,
   "metadata": {},
   "outputs": [
    {
     "name": "stdout",
     "output_type": "stream",
     "text": [
      "x\t: [[-1.0508274 -0.6953251  1.0884959]]\n",
      "weight\t: [[-0.07275822  0.4582829  -0.74206555]]\n",
      "bias\t: [[0.]]\n"
     ]
    }
   ],
   "source": [
    "x = tf.random.normal((1,3),0,1)\n",
    "weight = tf.random.normal((1,3),0,1)\n",
    "bias = tf.zeros((1,1))\n",
    "\n",
    "y = tf.ones((1,))\n",
    "\n",
    "print('x\\t: {}\\nweight\\t: {}\\nbias\\t: {}'.format(x,weight,bias))"
   ]
  },
  {
   "cell_type": "code",
   "execution_count": 52,
   "metadata": {},
   "outputs": [
    {
     "name": "stdout",
     "output_type": "stream",
     "text": [
      "100\t[[0.0287776]]\t[[0.9712224]]\n",
      "200\t[[0.01391399]]\t[[0.986086]]\n",
      "300\t[[0.00915319]]\t[[0.9908468]]\n",
      "400\t[[0.00681502]]\t[[0.993185]]\n",
      "500\t[[0.0054267]]\t[[0.9945733]]\n",
      "600\t[[0.00450766]]\t[[0.99549234]]\n",
      "700\t[[0.00385439]]\t[[0.9961456]]\n",
      "800\t[[0.00336629]]\t[[0.9966337]]\n",
      "900\t[[0.00298786]]\t[[0.99701214]]\n",
      "1000\t[[0.00268584]]\t[[0.99731416]]\n"
     ]
    }
   ],
   "source": [
    "for i in range(1000):\n",
    "    output = Neuron2(x, weight,bias = bias)\n",
    "    error = y - output\n",
    "    weight = weight + x * 0.1 * error\n",
    "    bias = bias + 1*0.1*error\n",
    "\n",
    "    if i % 100 ==99:\n",
    "        print(\"{}\\t{}\\t{}\".format(i+1, error,output))"
   ]
  },
  {
   "cell_type": "code",
   "execution_count": 53,
   "metadata": {},
   "outputs": [
    {
     "name": "stdout",
     "output_type": "stream",
     "text": [
      "x\t: [[-1.0508274 -0.6953251  1.0884959]]\n",
      "weight\t: [[-2.01368   -0.8260105  1.2684294]]\n",
      "bias\t: [[1.8470418]]\n"
     ]
    }
   ],
   "source": [
    "print('x\\t: {}\\nweight\\t: {}\\nbias\\t: {}'.format(x,weight,bias))"
   ]
  },
  {
   "cell_type": "code",
   "execution_count": null,
   "metadata": {},
   "outputs": [],
   "source": [
    "# Gate"
   ]
  },
  {
   "cell_type": "code",
   "execution_count": null,
   "metadata": {},
   "outputs": [],
   "source": [
    "X = np.array([[1,1],[1,0],[0,1],[0,0]])\n",
    "Y = np.array([[1],[0],[0],[0]])\n",
    "\n",
    "W = tf.random.normal([2],0,1)\n",
    "b = tf.random.normal([1],0,1)\n",
    "b_x = 1\n",
    "\n",
    "for i in range(2000):\n",
    "    "
   ]
  }
 ],
 "metadata": {
  "interpreter": {
   "hash": "277ba694123044f92ff0a2480e6f3f67f060cfa9edaae1b0be2ba1f5ffe83186"
  },
  "kernelspec": {
   "display_name": "Python 3.6.12 64-bit ('pythoncode': conda)",
   "language": "python",
   "name": "python3"
  },
  "language_info": {
   "codemirror_mode": {
    "name": "ipython",
    "version": 3
   },
   "file_extension": ".py",
   "mimetype": "text/x-python",
   "name": "python",
   "nbconvert_exporter": "python",
   "pygments_lexer": "ipython3",
   "version": "3.6.12"
  },
  "orig_nbformat": 4
 },
 "nbformat": 4,
 "nbformat_minor": 2
}
