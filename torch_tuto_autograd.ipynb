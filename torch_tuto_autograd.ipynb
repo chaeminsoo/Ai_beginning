{
  "nbformat": 4,
  "nbformat_minor": 0,
  "metadata": {
    "colab": {
      "name": "torch_tuto_autograd.ipynb",
      "provenance": [],
      "authorship_tag": "ABX9TyMJD0ACyqR86rXQviufMvZf"
    },
    "kernelspec": {
      "name": "python3",
      "display_name": "Python 3"
    },
    "language_info": {
      "name": "python"
    },
    "accelerator": "GPU"
  },
  "cells": [
    {
      "cell_type": "code",
      "execution_count": 29,
      "metadata": {
        "id": "AMoBzbXYjIRQ"
      },
      "outputs": [],
      "source": [
        "import torch, torchvision\n",
        "model = torchvision.models.resnet18(pretrained = True)\n",
        "data = torch.rand(1,3,64,64) # 1개가 64*64 행렬 3개로 구성\n",
        "labels = torch.rand(1,1000)"
      ]
    },
    {
      "cell_type": "code",
      "source": [
        "# 데이터를 모댈의 레이어에 통과 -> 예측값 생성 : 순전파 단계\n",
        "prediction = model(data)"
      ],
      "metadata": {
        "id": "16pKN7jZjj3x"
      },
      "execution_count": 30,
      "outputs": []
    },
    {
      "cell_type": "code",
      "source": [
        "# 예측값과 정답을 이용하여 오차(error, 손실(loss)) 계산\n",
        "loss = (prediction - labels).sum()\n",
        "loss.backward() # 역전파"
      ],
      "metadata": {
        "id": "xfMQjAnVkyjT"
      },
      "execution_count": 31,
      "outputs": []
    },
    {
      "cell_type": "code",
      "source": [
        "optim = torch.optim.SGD(model.parameters(), lr = 0.1, momentum=0.9)"
      ],
      "metadata": {
        "id": "6gM7grauTcMh"
      },
      "execution_count": 32,
      "outputs": []
    },
    {
      "cell_type": "code",
      "source": [
        "optim.step() # 경사하강법"
      ],
      "metadata": {
        "id": "Vu0xeXqkUN_7"
      },
      "execution_count": 34,
      "outputs": []
    }
  ]
}